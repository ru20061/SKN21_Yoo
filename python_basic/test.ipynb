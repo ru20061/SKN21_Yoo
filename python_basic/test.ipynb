{
 "cells": [
  {
   "cell_type": "markdown",
   "id": "2d1e430a",
   "metadata": {},
   "source": [
    "파이썬 코드 실행"
   ]
  },
  {
   "cell_type": "code",
   "execution_count": null,
   "id": "9d4f09e6",
   "metadata": {},
   "outputs": [
    {
     "data": {
      "text/plain": [
       "2"
      ]
     },
     "execution_count": 2,
     "metadata": {},
     "output_type": "execute_result"
    }
   ],
   "source": [
    "# 실행 : control + enter , shift + enter\n",
    "# 셀 생성 : A (위) , B : (아래)\n",
    "1+1"
   ]
  }
 ],
 "metadata": {
  "kernelspec": {
   "display_name": "Python 3",
   "language": "python",
   "name": "python3"
  },
  "language_info": {
   "codemirror_mode": {
    "name": "ipython",
    "version": 3
   },
   "file_extension": ".py",
   "mimetype": "text/x-python",
   "name": "python",
   "nbconvert_exporter": "python",
   "pygments_lexer": "ipython3",
   "version": "3.13.7"
  }
 },
 "nbformat": 4,
 "nbformat_minor": 5
}
